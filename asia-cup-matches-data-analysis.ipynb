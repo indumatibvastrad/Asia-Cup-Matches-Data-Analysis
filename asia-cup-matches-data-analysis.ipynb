{
 "cells": [
  {
   "cell_type": "markdown",
   "id": "1c97dac4",
   "metadata": {
    "papermill": {
     "duration": 0.010005,
     "end_time": "2023-09-15T17:35:33.567047",
     "exception": false,
     "start_time": "2023-09-15T17:35:33.557042",
     "status": "completed"
    },
    "tags": []
   },
   "source": [
    "# **ASIA CUP MATCHES DATA ANALYSIS**\n",
    "\n",
    "* **Asia Cup is a popular cricket tournament, where the teams from Asia continent, or more specifically the Indian subcontinent take part**\n",
    "\n",
    "* **Generally, Asia Cup is organized in every two years, where the teams like India, Sri Lanka, Pakistan, Banglandesh, Afganistan, and some other asian teams take part and compete for the title**\n",
    "\n",
    "* **Asia Cup is usually held before any ICC trophy, which ensures the teams participating in this tournament can enhance their practise for the forthcoming ICC tournament**\n",
    "\n",
    "* **In 2022, Asia cup was held just before the T20 World Cup 2022, and in 2023, it is going to held just before the ODI World Cup 2023**\n",
    "\n",
    "* **In this notebook, we will dive into the dataset consisting of all the matches played in the Asia Cup history to find out the valuable insights about this tournament, teams, and players**"
   ]
  },
  {
   "cell_type": "markdown",
   "id": "24a306cf",
   "metadata": {
    "papermill": {
     "duration": 0.010215,
     "end_time": "2023-09-15T17:35:33.587274",
     "exception": false,
     "start_time": "2023-09-15T17:35:33.577059",
     "status": "completed"
    },
    "tags": []
   },
   "source": [
    "# **Importing Libraries**\n",
    "\n",
    "* **As a first step, we need to import pandas, numpy and matplotlib libraries to perform the analysis. Pandas and Numpy for data extraction and analysis, and matplotlib for data visualization.**"
   ]
  },
  {
   "cell_type": "code",
   "execution_count": 1,
   "id": "3e8d1ecb",
   "metadata": {
    "execution": {
     "iopub.execute_input": "2023-09-15T17:35:33.610009Z",
     "iopub.status.busy": "2023-09-15T17:35:33.609349Z",
     "iopub.status.idle": "2023-09-15T17:35:33.991415Z",
     "shell.execute_reply": "2023-09-15T17:35:33.989242Z"
    },
    "papermill": {
     "duration": 0.397898,
     "end_time": "2023-09-15T17:35:33.995020",
     "exception": false,
     "start_time": "2023-09-15T17:35:33.597122",
     "status": "completed"
    },
    "tags": []
   },
   "outputs": [],
   "source": [
    "import pandas as pd\n",
    "import numpy as np\n",
    "import matplotlib.pyplot as plt"
   ]
  },
  {
   "cell_type": "markdown",
   "id": "f12e8b49",
   "metadata": {
    "papermill": {
     "duration": 0.010771,
     "end_time": "2023-09-15T17:35:34.016189",
     "exception": false,
     "start_time": "2023-09-15T17:35:34.005418",
     "status": "completed"
    },
    "tags": []
   },
   "source": [
    "# **Importing Dataset**\n",
    "\n",
    "* **Now we are importing the data - 'Asia Cup Cricket - 1984 to 2022' in csv format. Also, we have to use pd.read_csv function to read the imported csv file dataset with the help of pandas library.**"
   ]
  },
  {
   "cell_type": "code",
   "execution_count": 2,
   "id": "7b1c78b7",
   "metadata": {
    "execution": {
     "iopub.execute_input": "2023-09-15T17:35:34.041746Z",
     "iopub.status.busy": "2023-09-15T17:35:34.041101Z",
     "iopub.status.idle": "2023-09-15T17:35:34.125684Z",
     "shell.execute_reply": "2023-09-15T17:35:34.123566Z"
    },
    "papermill": {
     "duration": 0.100696,
     "end_time": "2023-09-15T17:35:34.129326",
     "exception": false,
     "start_time": "2023-09-15T17:35:34.028630",
     "status": "completed"
    },
    "tags": []
   },
   "outputs": [
    {
     "data": {
      "text/html": [
       "<div>\n",
       "<style scoped>\n",
       "    .dataframe tbody tr th:only-of-type {\n",
       "        vertical-align: middle;\n",
       "    }\n",
       "\n",
       "    .dataframe tbody tr th {\n",
       "        vertical-align: top;\n",
       "    }\n",
       "\n",
       "    .dataframe thead th {\n",
       "        text-align: right;\n",
       "    }\n",
       "</style>\n",
       "<table border=\"1\" class=\"dataframe\">\n",
       "  <thead>\n",
       "    <tr style=\"text-align: right;\">\n",
       "      <th></th>\n",
       "      <th>Team</th>\n",
       "      <th>Opponent</th>\n",
       "      <th>Format</th>\n",
       "      <th>Ground</th>\n",
       "      <th>Year</th>\n",
       "      <th>Toss</th>\n",
       "      <th>Selection</th>\n",
       "      <th>Run Scored</th>\n",
       "      <th>Wicket Lost</th>\n",
       "      <th>Fours</th>\n",
       "      <th>Sixes</th>\n",
       "      <th>Extras</th>\n",
       "      <th>Run Rate</th>\n",
       "      <th>Avg Bat Strike Rate</th>\n",
       "      <th>Highest Score</th>\n",
       "      <th>Wicket Taken</th>\n",
       "      <th>Given Extras</th>\n",
       "      <th>Highest Individual wicket</th>\n",
       "      <th>Player Of The Match</th>\n",
       "      <th>Result</th>\n",
       "    </tr>\n",
       "  </thead>\n",
       "  <tbody>\n",
       "    <tr>\n",
       "      <th>0</th>\n",
       "      <td>Pakistan</td>\n",
       "      <td>Sri Lanka</td>\n",
       "      <td>ODI</td>\n",
       "      <td>Sharjah</td>\n",
       "      <td>1984</td>\n",
       "      <td>Lose</td>\n",
       "      <td>Batting</td>\n",
       "      <td>187.0</td>\n",
       "      <td>9.0</td>\n",
       "      <td>9.0</td>\n",
       "      <td>3.0</td>\n",
       "      <td>21.0</td>\n",
       "      <td>4.06</td>\n",
       "      <td>52.04</td>\n",
       "      <td>47.0</td>\n",
       "      <td>5.0</td>\n",
       "      <td>26.0</td>\n",
       "      <td>2.0</td>\n",
       "      <td>Roy Dias</td>\n",
       "      <td>Lose</td>\n",
       "    </tr>\n",
       "    <tr>\n",
       "      <th>1</th>\n",
       "      <td>Sri Lanka</td>\n",
       "      <td>Pakistan</td>\n",
       "      <td>ODI</td>\n",
       "      <td>Sharjah</td>\n",
       "      <td>1984</td>\n",
       "      <td>Win</td>\n",
       "      <td>Bowling</td>\n",
       "      <td>190.0</td>\n",
       "      <td>5.0</td>\n",
       "      <td>11.0</td>\n",
       "      <td>1.0</td>\n",
       "      <td>26.0</td>\n",
       "      <td>4.36</td>\n",
       "      <td>68.51</td>\n",
       "      <td>57.0</td>\n",
       "      <td>9.0</td>\n",
       "      <td>21.0</td>\n",
       "      <td>3.0</td>\n",
       "      <td>Roy Dias</td>\n",
       "      <td>Win</td>\n",
       "    </tr>\n",
       "    <tr>\n",
       "      <th>2</th>\n",
       "      <td>India</td>\n",
       "      <td>Sri Lanka</td>\n",
       "      <td>ODI</td>\n",
       "      <td>Sharjah</td>\n",
       "      <td>1984</td>\n",
       "      <td>Win</td>\n",
       "      <td>Bowling</td>\n",
       "      <td>97.0</td>\n",
       "      <td>0.0</td>\n",
       "      <td>9.0</td>\n",
       "      <td>0.0</td>\n",
       "      <td>14.0</td>\n",
       "      <td>4.47</td>\n",
       "      <td>60.48</td>\n",
       "      <td>51.0</td>\n",
       "      <td>10.0</td>\n",
       "      <td>8.0</td>\n",
       "      <td>3.0</td>\n",
       "      <td>Surinder Khanna</td>\n",
       "      <td>Win</td>\n",
       "    </tr>\n",
       "    <tr>\n",
       "      <th>3</th>\n",
       "      <td>Sri Lanka</td>\n",
       "      <td>India</td>\n",
       "      <td>ODI</td>\n",
       "      <td>Sharjah</td>\n",
       "      <td>1984</td>\n",
       "      <td>Lose</td>\n",
       "      <td>Batting</td>\n",
       "      <td>96.0</td>\n",
       "      <td>10.0</td>\n",
       "      <td>7.0</td>\n",
       "      <td>0.0</td>\n",
       "      <td>8.0</td>\n",
       "      <td>2.34</td>\n",
       "      <td>25.74</td>\n",
       "      <td>38.0</td>\n",
       "      <td>0.0</td>\n",
       "      <td>14.0</td>\n",
       "      <td>0.0</td>\n",
       "      <td>Surinder Khanna</td>\n",
       "      <td>Lose</td>\n",
       "    </tr>\n",
       "    <tr>\n",
       "      <th>4</th>\n",
       "      <td>India</td>\n",
       "      <td>Pakistan</td>\n",
       "      <td>ODI</td>\n",
       "      <td>Sharjah</td>\n",
       "      <td>1984</td>\n",
       "      <td>Win</td>\n",
       "      <td>Batting</td>\n",
       "      <td>188.0</td>\n",
       "      <td>4.0</td>\n",
       "      <td>13.0</td>\n",
       "      <td>3.0</td>\n",
       "      <td>17.0</td>\n",
       "      <td>4.08</td>\n",
       "      <td>60.21</td>\n",
       "      <td>56.0</td>\n",
       "      <td>10.0</td>\n",
       "      <td>5.0</td>\n",
       "      <td>3.0</td>\n",
       "      <td>Surinder Khanna</td>\n",
       "      <td>Win</td>\n",
       "    </tr>\n",
       "    <tr>\n",
       "      <th>...</th>\n",
       "      <td>...</td>\n",
       "      <td>...</td>\n",
       "      <td>...</td>\n",
       "      <td>...</td>\n",
       "      <td>...</td>\n",
       "      <td>...</td>\n",
       "      <td>...</td>\n",
       "      <td>...</td>\n",
       "      <td>...</td>\n",
       "      <td>...</td>\n",
       "      <td>...</td>\n",
       "      <td>...</td>\n",
       "      <td>...</td>\n",
       "      <td>...</td>\n",
       "      <td>...</td>\n",
       "      <td>...</td>\n",
       "      <td>...</td>\n",
       "      <td>...</td>\n",
       "      <td>...</td>\n",
       "      <td>...</td>\n",
       "    </tr>\n",
       "    <tr>\n",
       "      <th>249</th>\n",
       "      <td>India</td>\n",
       "      <td>Afghanistan</td>\n",
       "      <td>T20I</td>\n",
       "      <td>Dubai(DSC)</td>\n",
       "      <td>2022</td>\n",
       "      <td>Lose</td>\n",
       "      <td>Batting</td>\n",
       "      <td>212.0</td>\n",
       "      <td>2.0</td>\n",
       "      <td>21.0</td>\n",
       "      <td>9.0</td>\n",
       "      <td>2.0</td>\n",
       "      <td>10.60</td>\n",
       "      <td>194.05</td>\n",
       "      <td>122.0</td>\n",
       "      <td>8.0</td>\n",
       "      <td>3.0</td>\n",
       "      <td>5.0</td>\n",
       "      <td>Virat Kohli</td>\n",
       "      <td>Win</td>\n",
       "    </tr>\n",
       "    <tr>\n",
       "      <th>250</th>\n",
       "      <td>Pakistan</td>\n",
       "      <td>Sri Lanka</td>\n",
       "      <td>T20I</td>\n",
       "      <td>Dubai(DSC)</td>\n",
       "      <td>2022</td>\n",
       "      <td>Lose</td>\n",
       "      <td>Batting</td>\n",
       "      <td>121.0</td>\n",
       "      <td>10.0</td>\n",
       "      <td>4.0</td>\n",
       "      <td>3.0</td>\n",
       "      <td>17.0</td>\n",
       "      <td>6.31</td>\n",
       "      <td>58.78</td>\n",
       "      <td>30.0</td>\n",
       "      <td>5.0</td>\n",
       "      <td>5.0</td>\n",
       "      <td>2.0</td>\n",
       "      <td>Wanindu Hasaranga de Silva</td>\n",
       "      <td>Lose</td>\n",
       "    </tr>\n",
       "    <tr>\n",
       "      <th>251</th>\n",
       "      <td>Sri Lanka</td>\n",
       "      <td>Pakistan</td>\n",
       "      <td>T20I</td>\n",
       "      <td>Dubai(DSC)</td>\n",
       "      <td>2022</td>\n",
       "      <td>Win</td>\n",
       "      <td>Bowling</td>\n",
       "      <td>124.0</td>\n",
       "      <td>5.0</td>\n",
       "      <td>9.0</td>\n",
       "      <td>5.0</td>\n",
       "      <td>5.0</td>\n",
       "      <td>7.29</td>\n",
       "      <td>111.50</td>\n",
       "      <td>55.0</td>\n",
       "      <td>10.0</td>\n",
       "      <td>17.0</td>\n",
       "      <td>3.0</td>\n",
       "      <td>Wanindu Hasaranga de Silva</td>\n",
       "      <td>Win</td>\n",
       "    </tr>\n",
       "    <tr>\n",
       "      <th>252</th>\n",
       "      <td>Pakistan</td>\n",
       "      <td>Sri Lanka</td>\n",
       "      <td>T20I</td>\n",
       "      <td>Dubai(DSC)</td>\n",
       "      <td>2022</td>\n",
       "      <td>Win</td>\n",
       "      <td>Bowling</td>\n",
       "      <td>147.0</td>\n",
       "      <td>10.0</td>\n",
       "      <td>9.0</td>\n",
       "      <td>4.0</td>\n",
       "      <td>14.0</td>\n",
       "      <td>7.35</td>\n",
       "      <td>99.38</td>\n",
       "      <td>55.0</td>\n",
       "      <td>6.0</td>\n",
       "      <td>10.0</td>\n",
       "      <td>3.0</td>\n",
       "      <td>Bhanuka Rajapaksa</td>\n",
       "      <td>Lose</td>\n",
       "    </tr>\n",
       "    <tr>\n",
       "      <th>253</th>\n",
       "      <td>Sri Lanka</td>\n",
       "      <td>Pakistan</td>\n",
       "      <td>T20I</td>\n",
       "      <td>Dubai(DSC)</td>\n",
       "      <td>2022</td>\n",
       "      <td>Lose</td>\n",
       "      <td>Batting</td>\n",
       "      <td>170.0</td>\n",
       "      <td>6.0</td>\n",
       "      <td>16.0</td>\n",
       "      <td>5.0</td>\n",
       "      <td>10.0</td>\n",
       "      <td>8.50</td>\n",
       "      <td>90.86</td>\n",
       "      <td>71.0</td>\n",
       "      <td>10.0</td>\n",
       "      <td>14.0</td>\n",
       "      <td>4.0</td>\n",
       "      <td>Bhanuka Rajapaksa</td>\n",
       "      <td>Win</td>\n",
       "    </tr>\n",
       "  </tbody>\n",
       "</table>\n",
       "<p>254 rows × 20 columns</p>\n",
       "</div>"
      ],
      "text/plain": [
       "          Team     Opponent Format      Ground  Year  Toss Selection  \\\n",
       "0     Pakistan    Sri Lanka    ODI     Sharjah  1984  Lose   Batting   \n",
       "1    Sri Lanka     Pakistan    ODI     Sharjah  1984   Win   Bowling   \n",
       "2        India    Sri Lanka    ODI     Sharjah  1984   Win   Bowling   \n",
       "3    Sri Lanka        India    ODI     Sharjah  1984  Lose   Batting   \n",
       "4        India     Pakistan    ODI     Sharjah  1984   Win   Batting   \n",
       "..         ...          ...    ...         ...   ...   ...       ...   \n",
       "249      India  Afghanistan   T20I  Dubai(DSC)  2022  Lose   Batting   \n",
       "250   Pakistan    Sri Lanka   T20I  Dubai(DSC)  2022  Lose   Batting   \n",
       "251  Sri Lanka     Pakistan   T20I  Dubai(DSC)  2022   Win   Bowling   \n",
       "252   Pakistan    Sri Lanka   T20I  Dubai(DSC)  2022   Win   Bowling   \n",
       "253  Sri Lanka     Pakistan   T20I  Dubai(DSC)  2022  Lose   Batting   \n",
       "\n",
       "     Run Scored  Wicket Lost  Fours  Sixes  Extras  Run Rate  \\\n",
       "0         187.0          9.0    9.0    3.0    21.0      4.06   \n",
       "1         190.0          5.0   11.0    1.0    26.0      4.36   \n",
       "2          97.0          0.0    9.0    0.0    14.0      4.47   \n",
       "3          96.0         10.0    7.0    0.0     8.0      2.34   \n",
       "4         188.0          4.0   13.0    3.0    17.0      4.08   \n",
       "..          ...          ...    ...    ...     ...       ...   \n",
       "249       212.0          2.0   21.0    9.0     2.0     10.60   \n",
       "250       121.0         10.0    4.0    3.0    17.0      6.31   \n",
       "251       124.0          5.0    9.0    5.0     5.0      7.29   \n",
       "252       147.0         10.0    9.0    4.0    14.0      7.35   \n",
       "253       170.0          6.0   16.0    5.0    10.0      8.50   \n",
       "\n",
       "     Avg Bat Strike Rate  Highest Score  Wicket Taken  Given Extras  \\\n",
       "0                  52.04           47.0           5.0          26.0   \n",
       "1                  68.51           57.0           9.0          21.0   \n",
       "2                  60.48           51.0          10.0           8.0   \n",
       "3                  25.74           38.0           0.0          14.0   \n",
       "4                  60.21           56.0          10.0           5.0   \n",
       "..                   ...            ...           ...           ...   \n",
       "249               194.05          122.0           8.0           3.0   \n",
       "250                58.78           30.0           5.0           5.0   \n",
       "251               111.50           55.0          10.0          17.0   \n",
       "252                99.38           55.0           6.0          10.0   \n",
       "253                90.86           71.0          10.0          14.0   \n",
       "\n",
       "     Highest Individual wicket         Player Of The Match Result  \n",
       "0                          2.0                    Roy Dias   Lose  \n",
       "1                          3.0                    Roy Dias    Win  \n",
       "2                          3.0             Surinder Khanna    Win  \n",
       "3                          0.0             Surinder Khanna   Lose  \n",
       "4                          3.0             Surinder Khanna    Win  \n",
       "..                         ...                         ...    ...  \n",
       "249                        5.0                 Virat Kohli    Win  \n",
       "250                        2.0  Wanindu Hasaranga de Silva   Lose  \n",
       "251                        3.0  Wanindu Hasaranga de Silva    Win  \n",
       "252                        3.0           Bhanuka Rajapaksa   Lose  \n",
       "253                        4.0           Bhanuka Rajapaksa    Win  \n",
       "\n",
       "[254 rows x 20 columns]"
      ]
     },
     "execution_count": 2,
     "metadata": {},
     "output_type": "execute_result"
    }
   ],
   "source": [
    "\n",
    "a=pd.read_csv('/kaggle/input/asia-cup-cricket-1984-to-2022/asiacup.csv')\n",
    "a"
   ]
  },
  {
   "cell_type": "markdown",
   "id": "cce55504",
   "metadata": {
    "papermill": {
     "duration": 0.013137,
     "end_time": "2023-09-15T17:35:34.153628",
     "exception": false,
     "start_time": "2023-09-15T17:35:34.140491",
     "status": "completed"
    },
    "tags": []
   },
   "source": [
    "**Since we have imported the dataset, we got to know that it comprises of 254 rows x 20 columns. Thus, we can perform analysis on this dataset.**"
   ]
  },
  {
   "cell_type": "code",
   "execution_count": 3,
   "id": "bf918711",
   "metadata": {
    "execution": {
     "iopub.execute_input": "2023-09-15T17:35:34.178423Z",
     "iopub.status.busy": "2023-09-15T17:35:34.177697Z",
     "iopub.status.idle": "2023-09-15T17:35:34.215648Z",
     "shell.execute_reply": "2023-09-15T17:35:34.213576Z"
    },
    "papermill": {
     "duration": 0.053844,
     "end_time": "2023-09-15T17:35:34.218873",
     "exception": false,
     "start_time": "2023-09-15T17:35:34.165029",
     "status": "completed"
    },
    "tags": []
   },
   "outputs": [
    {
     "name": "stdout",
     "output_type": "stream",
     "text": [
      "<class 'pandas.core.frame.DataFrame'>\n",
      "RangeIndex: 254 entries, 0 to 253\n",
      "Data columns (total 20 columns):\n",
      " #   Column                     Non-Null Count  Dtype  \n",
      "---  ------                     --------------  -----  \n",
      " 0   Team                       254 non-null    object \n",
      " 1   Opponent                   254 non-null    object \n",
      " 2   Format                     254 non-null    object \n",
      " 3   Ground                     254 non-null    object \n",
      " 4   Year                       254 non-null    int64  \n",
      " 5   Toss                       254 non-null    object \n",
      " 6   Selection                  254 non-null    object \n",
      " 7   Run Scored                 252 non-null    float64\n",
      " 8   Wicket Lost                252 non-null    float64\n",
      " 9   Fours                      252 non-null    float64\n",
      " 10  Sixes                      252 non-null    float64\n",
      " 11  Extras                     252 non-null    float64\n",
      " 12  Run Rate                   252 non-null    float64\n",
      " 13  Avg Bat Strike Rate        252 non-null    float64\n",
      " 14  Highest Score              252 non-null    float64\n",
      " 15  Wicket Taken               252 non-null    float64\n",
      " 16  Given Extras               252 non-null    float64\n",
      " 17  Highest Individual wicket  252 non-null    float64\n",
      " 18  Player Of The Match        252 non-null    object \n",
      " 19  Result                     254 non-null    object \n",
      "dtypes: float64(11), int64(1), object(8)\n",
      "memory usage: 39.8+ KB\n"
     ]
    }
   ],
   "source": [
    "a.info() #This function featches the count of the non-null values as well as the data type of the columns"
   ]
  },
  {
   "cell_type": "markdown",
   "id": "48a00afb",
   "metadata": {
    "papermill": {
     "duration": 0.009533,
     "end_time": "2023-09-15T17:35:34.238780",
     "exception": false,
     "start_time": "2023-09-15T17:35:34.229247",
     "status": "completed"
    },
    "tags": []
   },
   "source": [
    "# **Data preparation & cleaning**"
   ]
  },
  {
   "cell_type": "markdown",
   "id": "0b78aa50",
   "metadata": {
    "papermill": {
     "duration": 0.009461,
     "end_time": "2023-09-15T17:35:34.258012",
     "exception": false,
     "start_time": "2023-09-15T17:35:34.248551",
     "status": "completed"
    },
    "tags": []
   },
   "source": [
    "# Dealing with null values\n",
    "\n",
    "* **After fetching the details of the all 20 columns present in the dataset, we come to the conclusion that only 8 among the 20 columns present have all the 254 non-null values**\n",
    "\n",
    "* **The rest columns comprises of 252 null values in the dataset, i.e., 2 rows in rest of the columns have null values**\n",
    "\n",
    "* **Thus, to deal with this problem, we are going to drop those rows having the null values to perform our analysis**\n",
    "\n",
    "* **As an alternate, we more also go with replacing the null values with any number or with any special characters**\n",
    "\n",
    "* **But it will be really challenging to replacing the null values present because Cricket is an unpredictable game and we can't predict data based on past perfromances**"
   ]
  },
  {
   "cell_type": "code",
   "execution_count": 4,
   "id": "e0768aea",
   "metadata": {
    "execution": {
     "iopub.execute_input": "2023-09-15T17:35:34.281470Z",
     "iopub.status.busy": "2023-09-15T17:35:34.281034Z",
     "iopub.status.idle": "2023-09-15T17:35:34.316327Z",
     "shell.execute_reply": "2023-09-15T17:35:34.314333Z"
    },
    "papermill": {
     "duration": 0.049572,
     "end_time": "2023-09-15T17:35:34.319173",
     "exception": false,
     "start_time": "2023-09-15T17:35:34.269601",
     "status": "completed"
    },
    "tags": []
   },
   "outputs": [
    {
     "data": {
      "text/html": [
       "<div>\n",
       "<style scoped>\n",
       "    .dataframe tbody tr th:only-of-type {\n",
       "        vertical-align: middle;\n",
       "    }\n",
       "\n",
       "    .dataframe tbody tr th {\n",
       "        vertical-align: top;\n",
       "    }\n",
       "\n",
       "    .dataframe thead th {\n",
       "        text-align: right;\n",
       "    }\n",
       "</style>\n",
       "<table border=\"1\" class=\"dataframe\">\n",
       "  <thead>\n",
       "    <tr style=\"text-align: right;\">\n",
       "      <th></th>\n",
       "      <th>Team</th>\n",
       "      <th>Opponent</th>\n",
       "      <th>Format</th>\n",
       "      <th>Ground</th>\n",
       "      <th>Year</th>\n",
       "      <th>Toss</th>\n",
       "      <th>Selection</th>\n",
       "      <th>Run Scored</th>\n",
       "      <th>Wicket Lost</th>\n",
       "      <th>Fours</th>\n",
       "      <th>Sixes</th>\n",
       "      <th>Extras</th>\n",
       "      <th>Run Rate</th>\n",
       "      <th>Avg Bat Strike Rate</th>\n",
       "      <th>Highest Score</th>\n",
       "      <th>Wicket Taken</th>\n",
       "      <th>Given Extras</th>\n",
       "      <th>Highest Individual wicket</th>\n",
       "      <th>Player Of The Match</th>\n",
       "      <th>Result</th>\n",
       "    </tr>\n",
       "  </thead>\n",
       "  <tbody>\n",
       "    <tr>\n",
       "      <th>0</th>\n",
       "      <td>Pakistan</td>\n",
       "      <td>Sri Lanka</td>\n",
       "      <td>ODI</td>\n",
       "      <td>Sharjah</td>\n",
       "      <td>1984</td>\n",
       "      <td>Lose</td>\n",
       "      <td>Batting</td>\n",
       "      <td>187.0</td>\n",
       "      <td>9.0</td>\n",
       "      <td>9.0</td>\n",
       "      <td>3.0</td>\n",
       "      <td>21.0</td>\n",
       "      <td>4.06</td>\n",
       "      <td>52.04</td>\n",
       "      <td>47.0</td>\n",
       "      <td>5.0</td>\n",
       "      <td>26.0</td>\n",
       "      <td>2.0</td>\n",
       "      <td>Roy Dias</td>\n",
       "      <td>Lose</td>\n",
       "    </tr>\n",
       "    <tr>\n",
       "      <th>1</th>\n",
       "      <td>Sri Lanka</td>\n",
       "      <td>Pakistan</td>\n",
       "      <td>ODI</td>\n",
       "      <td>Sharjah</td>\n",
       "      <td>1984</td>\n",
       "      <td>Win</td>\n",
       "      <td>Bowling</td>\n",
       "      <td>190.0</td>\n",
       "      <td>5.0</td>\n",
       "      <td>11.0</td>\n",
       "      <td>1.0</td>\n",
       "      <td>26.0</td>\n",
       "      <td>4.36</td>\n",
       "      <td>68.51</td>\n",
       "      <td>57.0</td>\n",
       "      <td>9.0</td>\n",
       "      <td>21.0</td>\n",
       "      <td>3.0</td>\n",
       "      <td>Roy Dias</td>\n",
       "      <td>Win</td>\n",
       "    </tr>\n",
       "    <tr>\n",
       "      <th>2</th>\n",
       "      <td>India</td>\n",
       "      <td>Sri Lanka</td>\n",
       "      <td>ODI</td>\n",
       "      <td>Sharjah</td>\n",
       "      <td>1984</td>\n",
       "      <td>Win</td>\n",
       "      <td>Bowling</td>\n",
       "      <td>97.0</td>\n",
       "      <td>0.0</td>\n",
       "      <td>9.0</td>\n",
       "      <td>0.0</td>\n",
       "      <td>14.0</td>\n",
       "      <td>4.47</td>\n",
       "      <td>60.48</td>\n",
       "      <td>51.0</td>\n",
       "      <td>10.0</td>\n",
       "      <td>8.0</td>\n",
       "      <td>3.0</td>\n",
       "      <td>Surinder Khanna</td>\n",
       "      <td>Win</td>\n",
       "    </tr>\n",
       "    <tr>\n",
       "      <th>3</th>\n",
       "      <td>Sri Lanka</td>\n",
       "      <td>India</td>\n",
       "      <td>ODI</td>\n",
       "      <td>Sharjah</td>\n",
       "      <td>1984</td>\n",
       "      <td>Lose</td>\n",
       "      <td>Batting</td>\n",
       "      <td>96.0</td>\n",
       "      <td>10.0</td>\n",
       "      <td>7.0</td>\n",
       "      <td>0.0</td>\n",
       "      <td>8.0</td>\n",
       "      <td>2.34</td>\n",
       "      <td>25.74</td>\n",
       "      <td>38.0</td>\n",
       "      <td>0.0</td>\n",
       "      <td>14.0</td>\n",
       "      <td>0.0</td>\n",
       "      <td>Surinder Khanna</td>\n",
       "      <td>Lose</td>\n",
       "    </tr>\n",
       "    <tr>\n",
       "      <th>4</th>\n",
       "      <td>India</td>\n",
       "      <td>Pakistan</td>\n",
       "      <td>ODI</td>\n",
       "      <td>Sharjah</td>\n",
       "      <td>1984</td>\n",
       "      <td>Win</td>\n",
       "      <td>Batting</td>\n",
       "      <td>188.0</td>\n",
       "      <td>4.0</td>\n",
       "      <td>13.0</td>\n",
       "      <td>3.0</td>\n",
       "      <td>17.0</td>\n",
       "      <td>4.08</td>\n",
       "      <td>60.21</td>\n",
       "      <td>56.0</td>\n",
       "      <td>10.0</td>\n",
       "      <td>5.0</td>\n",
       "      <td>3.0</td>\n",
       "      <td>Surinder Khanna</td>\n",
       "      <td>Win</td>\n",
       "    </tr>\n",
       "    <tr>\n",
       "      <th>...</th>\n",
       "      <td>...</td>\n",
       "      <td>...</td>\n",
       "      <td>...</td>\n",
       "      <td>...</td>\n",
       "      <td>...</td>\n",
       "      <td>...</td>\n",
       "      <td>...</td>\n",
       "      <td>...</td>\n",
       "      <td>...</td>\n",
       "      <td>...</td>\n",
       "      <td>...</td>\n",
       "      <td>...</td>\n",
       "      <td>...</td>\n",
       "      <td>...</td>\n",
       "      <td>...</td>\n",
       "      <td>...</td>\n",
       "      <td>...</td>\n",
       "      <td>...</td>\n",
       "      <td>...</td>\n",
       "      <td>...</td>\n",
       "    </tr>\n",
       "    <tr>\n",
       "      <th>249</th>\n",
       "      <td>India</td>\n",
       "      <td>Afghanistan</td>\n",
       "      <td>T20I</td>\n",
       "      <td>Dubai(DSC)</td>\n",
       "      <td>2022</td>\n",
       "      <td>Lose</td>\n",
       "      <td>Batting</td>\n",
       "      <td>212.0</td>\n",
       "      <td>2.0</td>\n",
       "      <td>21.0</td>\n",
       "      <td>9.0</td>\n",
       "      <td>2.0</td>\n",
       "      <td>10.60</td>\n",
       "      <td>194.05</td>\n",
       "      <td>122.0</td>\n",
       "      <td>8.0</td>\n",
       "      <td>3.0</td>\n",
       "      <td>5.0</td>\n",
       "      <td>Virat Kohli</td>\n",
       "      <td>Win</td>\n",
       "    </tr>\n",
       "    <tr>\n",
       "      <th>250</th>\n",
       "      <td>Pakistan</td>\n",
       "      <td>Sri Lanka</td>\n",
       "      <td>T20I</td>\n",
       "      <td>Dubai(DSC)</td>\n",
       "      <td>2022</td>\n",
       "      <td>Lose</td>\n",
       "      <td>Batting</td>\n",
       "      <td>121.0</td>\n",
       "      <td>10.0</td>\n",
       "      <td>4.0</td>\n",
       "      <td>3.0</td>\n",
       "      <td>17.0</td>\n",
       "      <td>6.31</td>\n",
       "      <td>58.78</td>\n",
       "      <td>30.0</td>\n",
       "      <td>5.0</td>\n",
       "      <td>5.0</td>\n",
       "      <td>2.0</td>\n",
       "      <td>Wanindu Hasaranga de Silva</td>\n",
       "      <td>Lose</td>\n",
       "    </tr>\n",
       "    <tr>\n",
       "      <th>251</th>\n",
       "      <td>Sri Lanka</td>\n",
       "      <td>Pakistan</td>\n",
       "      <td>T20I</td>\n",
       "      <td>Dubai(DSC)</td>\n",
       "      <td>2022</td>\n",
       "      <td>Win</td>\n",
       "      <td>Bowling</td>\n",
       "      <td>124.0</td>\n",
       "      <td>5.0</td>\n",
       "      <td>9.0</td>\n",
       "      <td>5.0</td>\n",
       "      <td>5.0</td>\n",
       "      <td>7.29</td>\n",
       "      <td>111.50</td>\n",
       "      <td>55.0</td>\n",
       "      <td>10.0</td>\n",
       "      <td>17.0</td>\n",
       "      <td>3.0</td>\n",
       "      <td>Wanindu Hasaranga de Silva</td>\n",
       "      <td>Win</td>\n",
       "    </tr>\n",
       "    <tr>\n",
       "      <th>252</th>\n",
       "      <td>Pakistan</td>\n",
       "      <td>Sri Lanka</td>\n",
       "      <td>T20I</td>\n",
       "      <td>Dubai(DSC)</td>\n",
       "      <td>2022</td>\n",
       "      <td>Win</td>\n",
       "      <td>Bowling</td>\n",
       "      <td>147.0</td>\n",
       "      <td>10.0</td>\n",
       "      <td>9.0</td>\n",
       "      <td>4.0</td>\n",
       "      <td>14.0</td>\n",
       "      <td>7.35</td>\n",
       "      <td>99.38</td>\n",
       "      <td>55.0</td>\n",
       "      <td>6.0</td>\n",
       "      <td>10.0</td>\n",
       "      <td>3.0</td>\n",
       "      <td>Bhanuka Rajapaksa</td>\n",
       "      <td>Lose</td>\n",
       "    </tr>\n",
       "    <tr>\n",
       "      <th>253</th>\n",
       "      <td>Sri Lanka</td>\n",
       "      <td>Pakistan</td>\n",
       "      <td>T20I</td>\n",
       "      <td>Dubai(DSC)</td>\n",
       "      <td>2022</td>\n",
       "      <td>Lose</td>\n",
       "      <td>Batting</td>\n",
       "      <td>170.0</td>\n",
       "      <td>6.0</td>\n",
       "      <td>16.0</td>\n",
       "      <td>5.0</td>\n",
       "      <td>10.0</td>\n",
       "      <td>8.50</td>\n",
       "      <td>90.86</td>\n",
       "      <td>71.0</td>\n",
       "      <td>10.0</td>\n",
       "      <td>14.0</td>\n",
       "      <td>4.0</td>\n",
       "      <td>Bhanuka Rajapaksa</td>\n",
       "      <td>Win</td>\n",
       "    </tr>\n",
       "  </tbody>\n",
       "</table>\n",
       "<p>252 rows × 20 columns</p>\n",
       "</div>"
      ],
      "text/plain": [
       "          Team     Opponent Format      Ground  Year  Toss Selection  \\\n",
       "0     Pakistan    Sri Lanka    ODI     Sharjah  1984  Lose   Batting   \n",
       "1    Sri Lanka     Pakistan    ODI     Sharjah  1984   Win   Bowling   \n",
       "2        India    Sri Lanka    ODI     Sharjah  1984   Win   Bowling   \n",
       "3    Sri Lanka        India    ODI     Sharjah  1984  Lose   Batting   \n",
       "4        India     Pakistan    ODI     Sharjah  1984   Win   Batting   \n",
       "..         ...          ...    ...         ...   ...   ...       ...   \n",
       "249      India  Afghanistan   T20I  Dubai(DSC)  2022  Lose   Batting   \n",
       "250   Pakistan    Sri Lanka   T20I  Dubai(DSC)  2022  Lose   Batting   \n",
       "251  Sri Lanka     Pakistan   T20I  Dubai(DSC)  2022   Win   Bowling   \n",
       "252   Pakistan    Sri Lanka   T20I  Dubai(DSC)  2022   Win   Bowling   \n",
       "253  Sri Lanka     Pakistan   T20I  Dubai(DSC)  2022  Lose   Batting   \n",
       "\n",
       "     Run Scored  Wicket Lost  Fours  Sixes  Extras  Run Rate  \\\n",
       "0         187.0          9.0    9.0    3.0    21.0      4.06   \n",
       "1         190.0          5.0   11.0    1.0    26.0      4.36   \n",
       "2          97.0          0.0    9.0    0.0    14.0      4.47   \n",
       "3          96.0         10.0    7.0    0.0     8.0      2.34   \n",
       "4         188.0          4.0   13.0    3.0    17.0      4.08   \n",
       "..          ...          ...    ...    ...     ...       ...   \n",
       "249       212.0          2.0   21.0    9.0     2.0     10.60   \n",
       "250       121.0         10.0    4.0    3.0    17.0      6.31   \n",
       "251       124.0          5.0    9.0    5.0     5.0      7.29   \n",
       "252       147.0         10.0    9.0    4.0    14.0      7.35   \n",
       "253       170.0          6.0   16.0    5.0    10.0      8.50   \n",
       "\n",
       "     Avg Bat Strike Rate  Highest Score  Wicket Taken  Given Extras  \\\n",
       "0                  52.04           47.0           5.0          26.0   \n",
       "1                  68.51           57.0           9.0          21.0   \n",
       "2                  60.48           51.0          10.0           8.0   \n",
       "3                  25.74           38.0           0.0          14.0   \n",
       "4                  60.21           56.0          10.0           5.0   \n",
       "..                   ...            ...           ...           ...   \n",
       "249               194.05          122.0           8.0           3.0   \n",
       "250                58.78           30.0           5.0           5.0   \n",
       "251               111.50           55.0          10.0          17.0   \n",
       "252                99.38           55.0           6.0          10.0   \n",
       "253                90.86           71.0          10.0          14.0   \n",
       "\n",
       "     Highest Individual wicket         Player Of The Match Result  \n",
       "0                          2.0                    Roy Dias   Lose  \n",
       "1                          3.0                    Roy Dias    Win  \n",
       "2                          3.0             Surinder Khanna    Win  \n",
       "3                          0.0             Surinder Khanna   Lose  \n",
       "4                          3.0             Surinder Khanna    Win  \n",
       "..                         ...                         ...    ...  \n",
       "249                        5.0                 Virat Kohli    Win  \n",
       "250                        2.0  Wanindu Hasaranga de Silva   Lose  \n",
       "251                        3.0  Wanindu Hasaranga de Silva    Win  \n",
       "252                        3.0           Bhanuka Rajapaksa   Lose  \n",
       "253                        4.0           Bhanuka Rajapaksa    Win  \n",
       "\n",
       "[252 rows x 20 columns]"
      ]
     },
     "execution_count": 4,
     "metadata": {},
     "output_type": "execute_result"
    }
   ],
   "source": [
    "a.dropna(inplace=True) #With dropna function, every null values will be deleted,\n",
    "a                      #With inplace=True command, the null values will be deleted permanently"
   ]
  },
  {
   "cell_type": "markdown",
   "id": "372beabf",
   "metadata": {
    "papermill": {
     "duration": 0.010097,
     "end_time": "2023-09-15T17:35:34.339755",
     "exception": false,
     "start_time": "2023-09-15T17:35:34.329658",
     "status": "completed"
    },
    "tags": []
   },
   "source": [
    "**Now as we can see, the no. of rows is been reduced from 254 to 252**"
   ]
  },
  {
   "cell_type": "code",
   "execution_count": 5,
   "id": "03e88a59",
   "metadata": {
    "execution": {
     "iopub.execute_input": "2023-09-15T17:35:34.363777Z",
     "iopub.status.busy": "2023-09-15T17:35:34.362993Z",
     "iopub.status.idle": "2023-09-15T17:35:34.411762Z",
     "shell.execute_reply": "2023-09-15T17:35:34.409819Z"
    },
    "papermill": {
     "duration": 0.063915,
     "end_time": "2023-09-15T17:35:34.414641",
     "exception": false,
     "start_time": "2023-09-15T17:35:34.350726",
     "status": "completed"
    },
    "tags": []
   },
   "outputs": [
    {
     "data": {
      "text/html": [
       "<div>\n",
       "<style scoped>\n",
       "    .dataframe tbody tr th:only-of-type {\n",
       "        vertical-align: middle;\n",
       "    }\n",
       "\n",
       "    .dataframe tbody tr th {\n",
       "        vertical-align: top;\n",
       "    }\n",
       "\n",
       "    .dataframe thead th {\n",
       "        text-align: right;\n",
       "    }\n",
       "</style>\n",
       "<table border=\"1\" class=\"dataframe\">\n",
       "  <thead>\n",
       "    <tr style=\"text-align: right;\">\n",
       "      <th></th>\n",
       "      <th>Year</th>\n",
       "      <th>Run Scored</th>\n",
       "      <th>Wicket Lost</th>\n",
       "      <th>Fours</th>\n",
       "      <th>Sixes</th>\n",
       "      <th>Extras</th>\n",
       "      <th>Run Rate</th>\n",
       "      <th>Avg Bat Strike Rate</th>\n",
       "      <th>Highest Score</th>\n",
       "      <th>Wicket Taken</th>\n",
       "      <th>Given Extras</th>\n",
       "      <th>Highest Individual wicket</th>\n",
       "    </tr>\n",
       "  </thead>\n",
       "  <tbody>\n",
       "    <tr>\n",
       "      <th>count</th>\n",
       "      <td>252.000000</td>\n",
       "      <td>252.000000</td>\n",
       "      <td>252.000000</td>\n",
       "      <td>252.000000</td>\n",
       "      <td>252.000000</td>\n",
       "      <td>252.000000</td>\n",
       "      <td>252.000000</td>\n",
       "      <td>252.000000</td>\n",
       "      <td>252.000000</td>\n",
       "      <td>252.000000</td>\n",
       "      <td>252.000000</td>\n",
       "      <td>252.000000</td>\n",
       "    </tr>\n",
       "    <tr>\n",
       "      <th>mean</th>\n",
       "      <td>2006.984127</td>\n",
       "      <td>201.920635</td>\n",
       "      <td>6.892857</td>\n",
       "      <td>15.626984</td>\n",
       "      <td>2.912698</td>\n",
       "      <td>13.238095</td>\n",
       "      <td>5.308214</td>\n",
       "      <td>76.676667</td>\n",
       "      <td>69.309524</td>\n",
       "      <td>6.892857</td>\n",
       "      <td>13.238095</td>\n",
       "      <td>2.563492</td>\n",
       "    </tr>\n",
       "    <tr>\n",
       "      <th>std</th>\n",
       "      <td>11.022602</td>\n",
       "      <td>67.331860</td>\n",
       "      <td>2.874609</td>\n",
       "      <td>7.754946</td>\n",
       "      <td>2.596411</td>\n",
       "      <td>7.621973</td>\n",
       "      <td>1.584823</td>\n",
       "      <td>30.678228</td>\n",
       "      <td>29.813488</td>\n",
       "      <td>2.874609</td>\n",
       "      <td>7.621973</td>\n",
       "      <td>1.100496</td>\n",
       "    </tr>\n",
       "    <tr>\n",
       "      <th>min</th>\n",
       "      <td>1984.000000</td>\n",
       "      <td>38.000000</td>\n",
       "      <td>0.000000</td>\n",
       "      <td>0.000000</td>\n",
       "      <td>0.000000</td>\n",
       "      <td>0.000000</td>\n",
       "      <td>2.200000</td>\n",
       "      <td>24.630000</td>\n",
       "      <td>8.000000</td>\n",
       "      <td>0.000000</td>\n",
       "      <td>0.000000</td>\n",
       "      <td>0.000000</td>\n",
       "    </tr>\n",
       "    <tr>\n",
       "      <th>25%</th>\n",
       "      <td>2000.000000</td>\n",
       "      <td>147.000000</td>\n",
       "      <td>5.000000</td>\n",
       "      <td>10.000000</td>\n",
       "      <td>1.000000</td>\n",
       "      <td>8.000000</td>\n",
       "      <td>4.227500</td>\n",
       "      <td>54.742500</td>\n",
       "      <td>47.000000</td>\n",
       "      <td>5.000000</td>\n",
       "      <td>8.000000</td>\n",
       "      <td>2.000000</td>\n",
       "    </tr>\n",
       "    <tr>\n",
       "      <th>50%</th>\n",
       "      <td>2008.000000</td>\n",
       "      <td>193.000000</td>\n",
       "      <td>7.000000</td>\n",
       "      <td>15.000000</td>\n",
       "      <td>2.000000</td>\n",
       "      <td>12.000000</td>\n",
       "      <td>5.090000</td>\n",
       "      <td>73.155000</td>\n",
       "      <td>66.500000</td>\n",
       "      <td>7.000000</td>\n",
       "      <td>12.000000</td>\n",
       "      <td>3.000000</td>\n",
       "    </tr>\n",
       "    <tr>\n",
       "      <th>75%</th>\n",
       "      <td>2016.000000</td>\n",
       "      <td>253.250000</td>\n",
       "      <td>10.000000</td>\n",
       "      <td>20.000000</td>\n",
       "      <td>4.250000</td>\n",
       "      <td>18.000000</td>\n",
       "      <td>6.100000</td>\n",
       "      <td>92.897500</td>\n",
       "      <td>85.000000</td>\n",
       "      <td>10.000000</td>\n",
       "      <td>18.000000</td>\n",
       "      <td>3.000000</td>\n",
       "    </tr>\n",
       "    <tr>\n",
       "      <th>max</th>\n",
       "      <td>2022.000000</td>\n",
       "      <td>385.000000</td>\n",
       "      <td>10.000000</td>\n",
       "      <td>41.000000</td>\n",
       "      <td>14.000000</td>\n",
       "      <td>38.000000</td>\n",
       "      <td>10.600000</td>\n",
       "      <td>194.050000</td>\n",
       "      <td>183.000000</td>\n",
       "      <td>10.000000</td>\n",
       "      <td>38.000000</td>\n",
       "      <td>6.000000</td>\n",
       "    </tr>\n",
       "  </tbody>\n",
       "</table>\n",
       "</div>"
      ],
      "text/plain": [
       "              Year  Run Scored  Wicket Lost       Fours       Sixes  \\\n",
       "count   252.000000  252.000000   252.000000  252.000000  252.000000   \n",
       "mean   2006.984127  201.920635     6.892857   15.626984    2.912698   \n",
       "std      11.022602   67.331860     2.874609    7.754946    2.596411   \n",
       "min    1984.000000   38.000000     0.000000    0.000000    0.000000   \n",
       "25%    2000.000000  147.000000     5.000000   10.000000    1.000000   \n",
       "50%    2008.000000  193.000000     7.000000   15.000000    2.000000   \n",
       "75%    2016.000000  253.250000    10.000000   20.000000    4.250000   \n",
       "max    2022.000000  385.000000    10.000000   41.000000   14.000000   \n",
       "\n",
       "           Extras    Run Rate  Avg Bat Strike Rate  Highest Score  \\\n",
       "count  252.000000  252.000000           252.000000     252.000000   \n",
       "mean    13.238095    5.308214            76.676667      69.309524   \n",
       "std      7.621973    1.584823            30.678228      29.813488   \n",
       "min      0.000000    2.200000            24.630000       8.000000   \n",
       "25%      8.000000    4.227500            54.742500      47.000000   \n",
       "50%     12.000000    5.090000            73.155000      66.500000   \n",
       "75%     18.000000    6.100000            92.897500      85.000000   \n",
       "max     38.000000   10.600000           194.050000     183.000000   \n",
       "\n",
       "       Wicket Taken  Given Extras  Highest Individual wicket  \n",
       "count    252.000000    252.000000                 252.000000  \n",
       "mean       6.892857     13.238095                   2.563492  \n",
       "std        2.874609      7.621973                   1.100496  \n",
       "min        0.000000      0.000000                   0.000000  \n",
       "25%        5.000000      8.000000                   2.000000  \n",
       "50%        7.000000     12.000000                   3.000000  \n",
       "75%       10.000000     18.000000                   3.000000  \n",
       "max       10.000000     38.000000                   6.000000  "
      ]
     },
     "execution_count": 5,
     "metadata": {},
     "output_type": "execute_result"
    }
   ],
   "source": [
    "a.describe() #This functions gives us the insights about the statistical data including mean, st. deviation, min and max values"
   ]
  },
  {
   "cell_type": "markdown",
   "id": "a41c4ffc",
   "metadata": {
    "papermill": {
     "duration": 0.010357,
     "end_time": "2023-09-15T17:35:34.436293",
     "exception": false,
     "start_time": "2023-09-15T17:35:34.425936",
     "status": "completed"
    },
    "tags": []
   },
   "source": [
    "# **Exploratory analysis**"
   ]
  },
  {
   "cell_type": "markdown",
   "id": "39ee779e",
   "metadata": {
    "papermill": {
     "duration": 0.010261,
     "end_time": "2023-09-15T17:35:34.457374",
     "exception": false,
     "start_time": "2023-09-15T17:35:34.447113",
     "status": "completed"
    },
    "tags": []
   },
   "source": [
    "# Teams Participated In Asia Cup"
   ]
  },
  {
   "cell_type": "code",
   "execution_count": 6,
   "id": "e1699630",
   "metadata": {
    "execution": {
     "iopub.execute_input": "2023-09-15T17:35:34.481069Z",
     "iopub.status.busy": "2023-09-15T17:35:34.480394Z",
     "iopub.status.idle": "2023-09-15T17:35:34.488746Z",
     "shell.execute_reply": "2023-09-15T17:35:34.487481Z"
    },
    "papermill": {
     "duration": 0.023128,
     "end_time": "2023-09-15T17:35:34.491471",
     "exception": false,
     "start_time": "2023-09-15T17:35:34.468343",
     "status": "completed"
    },
    "tags": []
   },
   "outputs": [
    {
     "data": {
      "text/plain": [
       "array(['Pakistan', 'Sri Lanka', 'India', 'Bangladesh', 'Hong Kong', 'UAE',\n",
       "       'Afghanistan'], dtype=object)"
      ]
     },
     "execution_count": 6,
     "metadata": {},
     "output_type": "execute_result"
    }
   ],
   "source": [
    "a['Team'].unique() #Using unique() function, we can obtain the distinct name of all the teams participated in the Asia Cup"
   ]
  },
  {
   "cell_type": "markdown",
   "id": "282e1310",
   "metadata": {
    "papermill": {
     "duration": 0.0101,
     "end_time": "2023-09-15T17:35:34.512550",
     "exception": false,
     "start_time": "2023-09-15T17:35:34.502450",
     "status": "completed"
    },
    "tags": []
   },
   "source": [
    "* **After getting to know which are the teams who participated in this tournament till now, it's time to know how many matches all the teams have played.**\n",
    "\n",
    "* **By getting to know the no. of matches played by each team, we can also get to know the most successful teams of Asia**"
   ]
  },
  {
   "cell_type": "code",
   "execution_count": 7,
   "id": "e8b10c58",
   "metadata": {
    "execution": {
     "iopub.execute_input": "2023-09-15T17:35:34.542598Z",
     "iopub.status.busy": "2023-09-15T17:35:34.541524Z",
     "iopub.status.idle": "2023-09-15T17:35:34.551310Z",
     "shell.execute_reply": "2023-09-15T17:35:34.550535Z"
    },
    "papermill": {
     "duration": 0.02937,
     "end_time": "2023-09-15T17:35:34.553826",
     "exception": false,
     "start_time": "2023-09-15T17:35:34.524456",
     "status": "completed"
    },
    "tags": []
   },
   "outputs": [
    {
     "data": {
      "text/plain": [
       "Team\n",
       "Sri Lanka      60\n",
       "India          58\n",
       "Pakistan       54\n",
       "Bangladesh     50\n",
       "Afghanistan    14\n",
       "Hong Kong       8\n",
       "UAE             8\n",
       "Name: count, dtype: int64"
      ]
     },
     "execution_count": 7,
     "metadata": {},
     "output_type": "execute_result"
    }
   ],
   "source": [
    "a['Team'].value_counts() #Obtaining the no. of matches played by each team"
   ]
  },
  {
   "cell_type": "markdown",
   "id": "9c259098",
   "metadata": {
    "papermill": {
     "duration": 0.097882,
     "end_time": "2023-09-15T17:35:34.662992",
     "exception": false,
     "start_time": "2023-09-15T17:35:34.565110",
     "status": "completed"
    },
    "tags": []
   },
   "source": [
    "# Highest ever score made by a team in a single innings"
   ]
  },
  {
   "cell_type": "code",
   "execution_count": 8,
   "id": "d9914166",
   "metadata": {
    "execution": {
     "iopub.execute_input": "2023-09-15T17:35:34.689650Z",
     "iopub.status.busy": "2023-09-15T17:35:34.688748Z",
     "iopub.status.idle": "2023-09-15T17:35:34.696077Z",
     "shell.execute_reply": "2023-09-15T17:35:34.694589Z"
    },
    "papermill": {
     "duration": 0.023843,
     "end_time": "2023-09-15T17:35:34.698446",
     "exception": false,
     "start_time": "2023-09-15T17:35:34.674603",
     "status": "completed"
    },
    "tags": []
   },
   "outputs": [
    {
     "data": {
      "text/plain": [
       "385.0"
      ]
     },
     "execution_count": 8,
     "metadata": {},
     "output_type": "execute_result"
    }
   ],
   "source": [
    "a['Run Scored'].max()"
   ]
  },
  {
   "cell_type": "markdown",
   "id": "04686a2c",
   "metadata": {
    "papermill": {
     "duration": 0.011084,
     "end_time": "2023-09-15T17:35:34.721511",
     "exception": false,
     "start_time": "2023-09-15T17:35:34.710427",
     "status": "completed"
    },
    "tags": []
   },
   "source": [
    "* **And which team is it?**"
   ]
  },
  {
   "cell_type": "code",
   "execution_count": 9,
   "id": "b6742928",
   "metadata": {
    "execution": {
     "iopub.execute_input": "2023-09-15T17:35:34.746762Z",
     "iopub.status.busy": "2023-09-15T17:35:34.746188Z",
     "iopub.status.idle": "2023-09-15T17:35:34.757420Z",
     "shell.execute_reply": "2023-09-15T17:35:34.756058Z"
    },
    "papermill": {
     "duration": 0.026845,
     "end_time": "2023-09-15T17:35:34.759974",
     "exception": false,
     "start_time": "2023-09-15T17:35:34.733129",
     "status": "completed"
    },
    "tags": []
   },
   "outputs": [
    {
     "data": {
      "text/plain": [
       "0      False\n",
       "1      False\n",
       "2      False\n",
       "3      False\n",
       "4      False\n",
       "       ...  \n",
       "249    False\n",
       "250    False\n",
       "251    False\n",
       "252    False\n",
       "253    False\n",
       "Name: Run Scored, Length: 252, dtype: bool"
      ]
     },
     "execution_count": 9,
     "metadata": {},
     "output_type": "execute_result"
    }
   ],
   "source": [
    "a['Run Scored']==a['Run Scored'].max()"
   ]
  },
  {
   "cell_type": "code",
   "execution_count": 10,
   "id": "c501150b",
   "metadata": {
    "execution": {
     "iopub.execute_input": "2023-09-15T17:35:34.784984Z",
     "iopub.status.busy": "2023-09-15T17:35:34.784527Z",
     "iopub.status.idle": "2023-09-15T17:35:34.810135Z",
     "shell.execute_reply": "2023-09-15T17:35:34.808537Z"
    },
    "papermill": {
     "duration": 0.041729,
     "end_time": "2023-09-15T17:35:34.812987",
     "exception": false,
     "start_time": "2023-09-15T17:35:34.771258",
     "status": "completed"
    },
    "tags": []
   },
   "outputs": [
    {
     "data": {
      "text/html": [
       "<div>\n",
       "<style scoped>\n",
       "    .dataframe tbody tr th:only-of-type {\n",
       "        vertical-align: middle;\n",
       "    }\n",
       "\n",
       "    .dataframe tbody tr th {\n",
       "        vertical-align: top;\n",
       "    }\n",
       "\n",
       "    .dataframe thead th {\n",
       "        text-align: right;\n",
       "    }\n",
       "</style>\n",
       "<table border=\"1\" class=\"dataframe\">\n",
       "  <thead>\n",
       "    <tr style=\"text-align: right;\">\n",
       "      <th></th>\n",
       "      <th>Team</th>\n",
       "      <th>Opponent</th>\n",
       "      <th>Format</th>\n",
       "      <th>Ground</th>\n",
       "      <th>Year</th>\n",
       "      <th>Toss</th>\n",
       "      <th>Selection</th>\n",
       "      <th>Run Scored</th>\n",
       "      <th>Wicket Lost</th>\n",
       "      <th>Fours</th>\n",
       "      <th>Sixes</th>\n",
       "      <th>Extras</th>\n",
       "      <th>Run Rate</th>\n",
       "      <th>Avg Bat Strike Rate</th>\n",
       "      <th>Highest Score</th>\n",
       "      <th>Wicket Taken</th>\n",
       "      <th>Given Extras</th>\n",
       "      <th>Highest Individual wicket</th>\n",
       "      <th>Player Of The Match</th>\n",
       "      <th>Result</th>\n",
       "    </tr>\n",
       "  </thead>\n",
       "  <tbody>\n",
       "    <tr>\n",
       "      <th>139</th>\n",
       "      <td>Pakistan</td>\n",
       "      <td>Bangladesh</td>\n",
       "      <td>ODI</td>\n",
       "      <td>Dambulla</td>\n",
       "      <td>2010</td>\n",
       "      <td>Win</td>\n",
       "      <td>Batting</td>\n",
       "      <td>385.0</td>\n",
       "      <td>7.0</td>\n",
       "      <td>41.0</td>\n",
       "      <td>10.0</td>\n",
       "      <td>11.0</td>\n",
       "      <td>7.7</td>\n",
       "      <td>129.98</td>\n",
       "      <td>124.0</td>\n",
       "      <td>5.0</td>\n",
       "      <td>12.0</td>\n",
       "      <td>1.0</td>\n",
       "      <td>Shahid Afridi</td>\n",
       "      <td>Win</td>\n",
       "    </tr>\n",
       "  </tbody>\n",
       "</table>\n",
       "</div>"
      ],
      "text/plain": [
       "         Team    Opponent Format    Ground  Year Toss Selection  Run Scored  \\\n",
       "139  Pakistan  Bangladesh    ODI  Dambulla  2010  Win   Batting       385.0   \n",
       "\n",
       "     Wicket Lost  Fours  Sixes  Extras  Run Rate  Avg Bat Strike Rate  \\\n",
       "139          7.0   41.0   10.0    11.0       7.7               129.98   \n",
       "\n",
       "     Highest Score  Wicket Taken  Given Extras  Highest Individual wicket  \\\n",
       "139          124.0           5.0          12.0                        1.0   \n",
       "\n",
       "    Player Of The Match Result  \n",
       "139       Shahid Afridi    Win  "
      ]
     },
     "execution_count": 10,
     "metadata": {},
     "output_type": "execute_result"
    }
   ],
   "source": [
    "a[a['Run Scored']==a['Run Scored'].max()] #here we will get whole row where Run scored condition mentioned is True"
   ]
  },
  {
   "cell_type": "code",
   "execution_count": 11,
   "id": "fe2da8be",
   "metadata": {
    "execution": {
     "iopub.execute_input": "2023-09-15T17:35:34.837990Z",
     "iopub.status.busy": "2023-09-15T17:35:34.837583Z",
     "iopub.status.idle": "2023-09-15T17:35:34.852094Z",
     "shell.execute_reply": "2023-09-15T17:35:34.850363Z"
    },
    "papermill": {
     "duration": 0.030639,
     "end_time": "2023-09-15T17:35:34.854915",
     "exception": false,
     "start_time": "2023-09-15T17:35:34.824276",
     "status": "completed"
    },
    "tags": []
   },
   "outputs": [
    {
     "data": {
      "text/html": [
       "<div>\n",
       "<style scoped>\n",
       "    .dataframe tbody tr th:only-of-type {\n",
       "        vertical-align: middle;\n",
       "    }\n",
       "\n",
       "    .dataframe tbody tr th {\n",
       "        vertical-align: top;\n",
       "    }\n",
       "\n",
       "    .dataframe thead th {\n",
       "        text-align: right;\n",
       "    }\n",
       "</style>\n",
       "<table border=\"1\" class=\"dataframe\">\n",
       "  <thead>\n",
       "    <tr style=\"text-align: right;\">\n",
       "      <th></th>\n",
       "      <th>Team</th>\n",
       "      <th>Run Scored</th>\n",
       "    </tr>\n",
       "  </thead>\n",
       "  <tbody>\n",
       "    <tr>\n",
       "      <th>139</th>\n",
       "      <td>Pakistan</td>\n",
       "      <td>385.0</td>\n",
       "    </tr>\n",
       "  </tbody>\n",
       "</table>\n",
       "</div>"
      ],
      "text/plain": [
       "         Team  Run Scored\n",
       "139  Pakistan       385.0"
      ]
     },
     "execution_count": 11,
     "metadata": {},
     "output_type": "execute_result"
    }
   ],
   "source": [
    "b=a[a['Run Scored']==a['Run Scored'].max()]\n",
    "b[['Team','Run Scored']]  #this one looks much better, don't you think so?"
   ]
  },
  {
   "cell_type": "markdown",
   "id": "b69780fe",
   "metadata": {
    "papermill": {
     "duration": 0.011365,
     "end_time": "2023-09-15T17:35:34.878604",
     "exception": false,
     "start_time": "2023-09-15T17:35:34.867239",
     "status": "completed"
    },
    "tags": []
   },
   "source": [
    "# Star of the Tournament"
   ]
  },
  {
   "cell_type": "markdown",
   "id": "f535f420",
   "metadata": {
    "papermill": {
     "duration": 0.011078,
     "end_time": "2023-09-15T17:35:34.901110",
     "exception": false,
     "start_time": "2023-09-15T17:35:34.890032",
     "status": "completed"
    },
    "tags": []
   },
   "source": [
    "* **In the long history of Asia Cup, many players have contributed for their respective teams in all batting, bowling, and fielding departments**\n",
    "\n",
    "* **But we want to have the list of top players who have contributed the most for their teams since the time they debuted in this tournament**"
   ]
  },
  {
   "cell_type": "code",
   "execution_count": 12,
   "id": "f7e73970",
   "metadata": {
    "execution": {
     "iopub.execute_input": "2023-09-15T17:35:34.927290Z",
     "iopub.status.busy": "2023-09-15T17:35:34.925920Z",
     "iopub.status.idle": "2023-09-15T17:35:34.937242Z",
     "shell.execute_reply": "2023-09-15T17:35:34.935677Z"
    },
    "papermill": {
     "duration": 0.026464,
     "end_time": "2023-09-15T17:35:34.939536",
     "exception": false,
     "start_time": "2023-09-15T17:35:34.913072",
     "status": "completed"
    },
    "tags": []
   },
   "outputs": [
    {
     "data": {
      "text/plain": [
       "Player Of The Match\n",
       "Virat Kohli             12\n",
       "Sanath Jayasuriya       10\n",
       "Shoaib Malik            10\n",
       "Shahid Afridi            8\n",
       "Kumar Sangakkara         8\n",
       "                        ..\n",
       "Younis Khan              2\n",
       "MS Dhoni                 2\n",
       "Tillakaratne Dilshan     2\n",
       "Farveez Maharoof         2\n",
       "Bhanuka Rajapaksa        2\n",
       "Name: count, Length: 78, dtype: int64"
      ]
     },
     "execution_count": 12,
     "metadata": {},
     "output_type": "execute_result"
    }
   ],
   "source": [
    "a['Player Of The Match'].value_counts() #Returns the count of player of the match awards won by the players in descending order"
   ]
  },
  {
   "cell_type": "markdown",
   "id": "c8137674",
   "metadata": {
    "papermill": {
     "duration": 0.011145,
     "end_time": "2023-09-15T17:35:34.962841",
     "exception": false,
     "start_time": "2023-09-15T17:35:34.951696",
     "status": "completed"
    },
    "tags": []
   },
   "source": [
    "* **Let us consider the top 5 players of the above result obtained**\n",
    "\n",
    "* **Virat Kohli is the top performer of the tournament, with 12 player of the match awards, followed by Sanath Jayasuriya and Shoai Malik with 10 awards each**\n",
    "\n",
    "* **Virat is the only indian in the top 5 list. Also, there are 2 players from Sri Lanka and Pakistan each**\n",
    "\n",
    "* **Moreover, Virat Kohli is the only active player who is still playing, so we can expect some more player of the tournament awards by him**"
   ]
  },
  {
   "cell_type": "code",
   "execution_count": 13,
   "id": "5f46dc02",
   "metadata": {
    "execution": {
     "iopub.execute_input": "2023-09-15T17:35:34.987545Z",
     "iopub.status.busy": "2023-09-15T17:35:34.987207Z",
     "iopub.status.idle": "2023-09-15T17:35:34.994287Z",
     "shell.execute_reply": "2023-09-15T17:35:34.993278Z"
    },
    "papermill": {
     "duration": 0.021839,
     "end_time": "2023-09-15T17:35:34.996040",
     "exception": false,
     "start_time": "2023-09-15T17:35:34.974201",
     "status": "completed"
    },
    "tags": []
   },
   "outputs": [
    {
     "data": {
      "text/plain": [
       "Format\n",
       "ODI     204\n",
       "T20I     48\n",
       "Name: count, dtype: int64"
      ]
     },
     "execution_count": 13,
     "metadata": {},
     "output_type": "execute_result"
    }
   ],
   "source": [
    "a['Format'].value_counts() #This function returns the values of the matches played among ODI and T20I format"
   ]
  },
  {
   "cell_type": "markdown",
   "id": "66af491c",
   "metadata": {
    "papermill": {
     "duration": 0.012129,
     "end_time": "2023-09-15T17:35:35.019668",
     "exception": false,
     "start_time": "2023-09-15T17:35:35.007539",
     "status": "completed"
    },
    "tags": []
   },
   "source": [
    "# Data Visualization\n",
    "\n",
    "* **So far, we have gone through the analysis of the various details and also ran various queries**\n",
    "\n",
    "* **However, since visualizations are easier to understand and comprehand, its time to perform visualizations too**\n",
    "\n",
    "* **For visualization, we will use the Matplotlib library, which we have alredy imported in the beginning**"
   ]
  },
  {
   "cell_type": "markdown",
   "id": "37cb8850",
   "metadata": {
    "papermill": {
     "duration": 0.012541,
     "end_time": "2023-09-15T17:35:35.043747",
     "exception": false,
     "start_time": "2023-09-15T17:35:35.031206",
     "status": "completed"
    },
    "tags": []
   },
   "source": [
    "# Top Players of the tournament\n",
    "\n",
    "* **Recently, we have gone through who are the top 5 players who have played exceptionally for their respective teams. Here as well, we'll be focuing on the top 5 players but in the form of a visualization.**"
   ]
  },
  {
   "cell_type": "code",
   "execution_count": 14,
   "id": "17268f1c",
   "metadata": {
    "execution": {
     "iopub.execute_input": "2023-09-15T17:35:35.073023Z",
     "iopub.status.busy": "2023-09-15T17:35:35.071306Z",
     "iopub.status.idle": "2023-09-15T17:35:35.080205Z",
     "shell.execute_reply": "2023-09-15T17:35:35.079257Z"
    },
    "papermill": {
     "duration": 0.026552,
     "end_time": "2023-09-15T17:35:35.082319",
     "exception": false,
     "start_time": "2023-09-15T17:35:35.055767",
     "status": "completed"
    },
    "tags": []
   },
   "outputs": [
    {
     "data": {
      "text/plain": [
       "Index(['Virat Kohli', 'Sanath Jayasuriya', 'Shoaib Malik', 'Shahid Afridi',\n",
       "       'Kumar Sangakkara'],\n",
       "      dtype='object', name='Player Of The Match')"
      ]
     },
     "execution_count": 14,
     "metadata": {},
     "output_type": "execute_result"
    }
   ],
   "source": [
    "x=a['Player Of The Match'].value_counts().head(5).index\n",
    "x"
   ]
  },
  {
   "cell_type": "code",
   "execution_count": 15,
   "id": "520b0fb0",
   "metadata": {
    "execution": {
     "iopub.execute_input": "2023-09-15T17:35:35.109505Z",
     "iopub.status.busy": "2023-09-15T17:35:35.109047Z",
     "iopub.status.idle": "2023-09-15T17:35:35.116982Z",
     "shell.execute_reply": "2023-09-15T17:35:35.116213Z"
    },
    "papermill": {
     "duration": 0.024072,
     "end_time": "2023-09-15T17:35:35.119068",
     "exception": false,
     "start_time": "2023-09-15T17:35:35.094996",
     "status": "completed"
    },
    "tags": []
   },
   "outputs": [
    {
     "data": {
      "text/plain": [
       "Player Of The Match\n",
       "Virat Kohli          12\n",
       "Sanath Jayasuriya    10\n",
       "Shoaib Malik         10\n",
       "Shahid Afridi         8\n",
       "Kumar Sangakkara      8\n",
       "Name: count, dtype: int64"
      ]
     },
     "execution_count": 15,
     "metadata": {},
     "output_type": "execute_result"
    }
   ],
   "source": [
    "y=a['Player Of The Match'].value_counts().head(5)\n",
    "y"
   ]
  },
  {
   "cell_type": "code",
   "execution_count": 16,
   "id": "34819c06",
   "metadata": {
    "execution": {
     "iopub.execute_input": "2023-09-15T17:35:35.149995Z",
     "iopub.status.busy": "2023-09-15T17:35:35.148803Z",
     "iopub.status.idle": "2023-09-15T17:35:35.456091Z",
     "shell.execute_reply": "2023-09-15T17:35:35.454466Z"
    },
    "papermill": {
     "duration": 0.325983,
     "end_time": "2023-09-15T17:35:35.458919",
     "exception": false,
     "start_time": "2023-09-15T17:35:35.132936",
     "status": "completed"
    },
    "tags": []
   },
   "outputs": [
    {
     "data": {
      "image/png": "[encoded data removed]",
      "text/plain": [
       "<Figure size 1000x600 with 1 Axes>"
      ]
     },
     "metadata": {},
     "output_type": "display_data"
    }
   ],
   "source": [
    "plt.figure(figsize=(10,6))\n",
    "plt.step(x,y,color=\"g\",marker='o',ms=10,mfc='#d4e330',mec='black') #mfc is chosen from color picker from google\n",
    "\n",
    "plt.title('Top Performers of Asia Cup matches',fontsize=19)\n",
    "plt.xlabel('Name of player',fontsize=10)\n",
    "plt.ylabel('No. of \"Player of the Match\" Awards won by Players',fontsize=10)\n",
    "\n",
    "\n",
    "plt.show()"
   ]
  },
  {
   "cell_type": "markdown",
   "id": "64f698bd",
   "metadata": {
    "papermill": {
     "duration": 0.01283,
     "end_time": "2023-09-15T17:35:35.484817",
     "exception": false,
     "start_time": "2023-09-15T17:35:35.471987",
     "status": "completed"
    },
    "tags": []
   },
   "source": [
    "# Highest no. of wickets that has been fallen in most of the innings\n",
    "\n",
    "* **It is obvious that min. wicket that can be fallen in an innings is 0, while the max. is 10.**\n",
    "\n",
    "* **But it is very hard to predict the highest no. of wickets that has been fallen in most of the innings.**\n",
    "\n",
    "* **Some may say 7, others may 8, which differes from people to people.**\n",
    "\n",
    "* **In this visualization, we will plot a bar graph which will show the no. of wickets a team has lost in an innings.**"
   ]
  },
  {
   "cell_type": "code",
   "execution_count": 17,
   "id": "2e458f84",
   "metadata": {
    "execution": {
     "iopub.execute_input": "2023-09-15T17:35:35.514542Z",
     "iopub.status.busy": "2023-09-15T17:35:35.514135Z",
     "iopub.status.idle": "2023-09-15T17:35:35.525265Z",
     "shell.execute_reply": "2023-09-15T17:35:35.523792Z"
    },
    "papermill": {
     "duration": 0.029172,
     "end_time": "2023-09-15T17:35:35.527772",
     "exception": false,
     "start_time": "2023-09-15T17:35:35.498600",
     "status": "completed"
    },
    "tags": []
   },
   "outputs": [
    {
     "data": {
      "text/plain": [
       "Wicket Lost\n",
       "10.0    71\n",
       "9.0     28\n",
       "8.0     25\n",
       "7.0     25\n",
       "6.0     23\n",
       "4.0     21\n",
       "5.0     20\n",
       "3.0     14\n",
       "2.0     14\n",
       "1.0      8\n",
       "0.0      3\n",
       "Name: count, dtype: int64"
      ]
     },
     "execution_count": 17,
     "metadata": {},
     "output_type": "execute_result"
    }
   ],
   "source": [
    "x=a['Wicket Lost'].value_counts().index\n",
    "y=a['Wicket Lost'].value_counts()\n",
    "y"
   ]
  },
  {
   "cell_type": "code",
   "execution_count": 18,
   "id": "99609d9e",
   "metadata": {
    "execution": {
     "iopub.execute_input": "2023-09-15T17:35:35.558686Z",
     "iopub.status.busy": "2023-09-15T17:35:35.558275Z",
     "iopub.status.idle": "2023-09-15T17:35:35.858126Z",
     "shell.execute_reply": "2023-09-15T17:35:35.856573Z"
    },
    "papermill": {
     "duration": 0.320657,
     "end_time": "2023-09-15T17:35:35.861616",
     "exception": false,
     "start_time": "2023-09-15T17:35:35.540959",
     "status": "completed"
    },
    "tags": []
   },
   "outputs": [
    {
     "data": {
      "image/png": "[encoded data removed]",
      "text/plain": [
       "<Figure size 1000x600 with 1 Axes>"
      ]
     },
     "metadata": {},
     "output_type": "display_data"
    }
   ],
   "source": [
    "plt.figure(figsize=(10,6))\n",
    "plt.bar(x,y)\n",
    "\n",
    "plt.title(\"Number of Wicket Fallen\",fontsize=19)\n",
    "plt.xlabel(\"No. of Wickets\",fontsize=12)\n",
    "plt.ylabel(\"No. of Matches\",fontsize=12)\n",
    "plt.grid() #Adding grid in the graph for better visualization\n",
    "plt.show()"
   ]
  },
  {
   "cell_type": "markdown",
   "id": "8cafb031",
   "metadata": {
    "papermill": {
     "duration": 0.018763,
     "end_time": "2023-09-15T17:35:35.897459",
     "exception": false,
     "start_time": "2023-09-15T17:35:35.878696",
     "status": "completed"
    },
    "tags": []
   },
   "source": [
    "* **10 is the Highest no. of wickets that has been fallen in most of the innings** "
   ]
  },
  {
   "cell_type": "markdown",
   "id": "463dae3f",
   "metadata": {
    "papermill": {
     "duration": 0.017535,
     "end_time": "2023-09-15T17:35:35.933713",
     "exception": false,
     "start_time": "2023-09-15T17:35:35.916178",
     "status": "completed"
    },
    "tags": []
   },
   "source": [
    "# cross check"
   ]
  },
  {
   "cell_type": "code",
   "execution_count": 19,
   "id": "24945844",
   "metadata": {
    "execution": {
     "iopub.execute_input": "2023-09-15T17:35:35.969184Z",
     "iopub.status.busy": "2023-09-15T17:35:35.968648Z",
     "iopub.status.idle": "2023-09-15T17:35:35.979678Z",
     "shell.execute_reply": "2023-09-15T17:35:35.977636Z"
    },
    "papermill": {
     "duration": 0.032004,
     "end_time": "2023-09-15T17:35:35.984507",
     "exception": false,
     "start_time": "2023-09-15T17:35:35.952503",
     "status": "completed"
    },
    "tags": []
   },
   "outputs": [
    {
     "data": {
      "text/plain": [
       "71"
      ]
     },
     "execution_count": 19,
     "metadata": {},
     "output_type": "execute_result"
    }
   ],
   "source": [
    "f=a[a['Wicket Lost']==10]\n",
    "f['Wicket Lost'].count()  #answer is matching with the graph"
   ]
  },
  {
   "cell_type": "code",
   "execution_count": 20,
   "id": "e6b7bb4b",
   "metadata": {
    "execution": {
     "iopub.execute_input": "2023-09-15T17:35:36.015706Z",
     "iopub.status.busy": "2023-09-15T17:35:36.015231Z",
     "iopub.status.idle": "2023-09-15T17:35:36.026360Z",
     "shell.execute_reply": "2023-09-15T17:35:36.024600Z"
    },
    "papermill": {
     "duration": 0.029357,
     "end_time": "2023-09-15T17:35:36.029430",
     "exception": false,
     "start_time": "2023-09-15T17:35:36.000073",
     "status": "completed"
    },
    "tags": []
   },
   "outputs": [
    {
     "data": {
      "text/plain": [
       "3"
      ]
     },
     "execution_count": 20,
     "metadata": {},
     "output_type": "execute_result"
    }
   ],
   "source": [
    "f=a[a['Wicket Lost']==0]\n",
    "f['Wicket Lost'].count()  #answer is matching with the graph"
   ]
  },
  {
   "cell_type": "markdown",
   "id": "2b3c3507",
   "metadata": {
    "papermill": {
     "duration": 0.016372,
     "end_time": "2023-09-15T17:35:36.061809",
     "exception": false,
     "start_time": "2023-09-15T17:35:36.045437",
     "status": "completed"
    },
    "tags": []
   },
   "source": [
    "**And Which are those 3 Matches?**"
   ]
  },
  {
   "cell_type": "code",
   "execution_count": 21,
   "id": "3eaca26c",
   "metadata": {
    "execution": {
     "iopub.execute_input": "2023-09-15T17:35:36.092839Z",
     "iopub.status.busy": "2023-09-15T17:35:36.092421Z",
     "iopub.status.idle": "2023-09-15T17:35:36.118375Z",
     "shell.execute_reply": "2023-09-15T17:35:36.116854Z"
    },
    "papermill": {
     "duration": 0.045558,
     "end_time": "2023-09-15T17:35:36.121113",
     "exception": false,
     "start_time": "2023-09-15T17:35:36.075555",
     "status": "completed"
    },
    "tags": []
   },
   "outputs": [
    {
     "data": {
      "text/html": [
       "<div>\n",
       "<style scoped>\n",
       "    .dataframe tbody tr th:only-of-type {\n",
       "        vertical-align: middle;\n",
       "    }\n",
       "\n",
       "    .dataframe tbody tr th {\n",
       "        vertical-align: top;\n",
       "    }\n",
       "\n",
       "    .dataframe thead th {\n",
       "        text-align: right;\n",
       "    }\n",
       "</style>\n",
       "<table border=\"1\" class=\"dataframe\">\n",
       "  <thead>\n",
       "    <tr style=\"text-align: right;\">\n",
       "      <th></th>\n",
       "      <th>Team</th>\n",
       "      <th>Opponent</th>\n",
       "      <th>Format</th>\n",
       "      <th>Ground</th>\n",
       "      <th>Year</th>\n",
       "      <th>Toss</th>\n",
       "      <th>Selection</th>\n",
       "      <th>Run Scored</th>\n",
       "      <th>Wicket Lost</th>\n",
       "      <th>Fours</th>\n",
       "      <th>Sixes</th>\n",
       "      <th>Extras</th>\n",
       "      <th>Run Rate</th>\n",
       "      <th>Avg Bat Strike Rate</th>\n",
       "      <th>Highest Score</th>\n",
       "      <th>Wicket Taken</th>\n",
       "      <th>Given Extras</th>\n",
       "      <th>Highest Individual wicket</th>\n",
       "      <th>Player Of The Match</th>\n",
       "      <th>Result</th>\n",
       "    </tr>\n",
       "  </thead>\n",
       "  <tbody>\n",
       "    <tr>\n",
       "      <th>2</th>\n",
       "      <td>India</td>\n",
       "      <td>Sri Lanka</td>\n",
       "      <td>ODI</td>\n",
       "      <td>Sharjah</td>\n",
       "      <td>1984</td>\n",
       "      <td>Win</td>\n",
       "      <td>Bowling</td>\n",
       "      <td>97.0</td>\n",
       "      <td>0.0</td>\n",
       "      <td>9.0</td>\n",
       "      <td>0.0</td>\n",
       "      <td>14.0</td>\n",
       "      <td>4.47</td>\n",
       "      <td>60.48</td>\n",
       "      <td>51.0</td>\n",
       "      <td>10.0</td>\n",
       "      <td>8.0</td>\n",
       "      <td>3.0</td>\n",
       "      <td>Surinder Khanna</td>\n",
       "      <td>Win</td>\n",
       "    </tr>\n",
       "    <tr>\n",
       "      <th>94</th>\n",
       "      <td>Sri Lanka</td>\n",
       "      <td>Bangladesh</td>\n",
       "      <td>ODI</td>\n",
       "      <td>Colombo(RPS)</td>\n",
       "      <td>2004</td>\n",
       "      <td>Lose</td>\n",
       "      <td>Bowling</td>\n",
       "      <td>191.0</td>\n",
       "      <td>0.0</td>\n",
       "      <td>15.0</td>\n",
       "      <td>0.0</td>\n",
       "      <td>20.0</td>\n",
       "      <td>5.70</td>\n",
       "      <td>84.97</td>\n",
       "      <td>107.0</td>\n",
       "      <td>9.0</td>\n",
       "      <td>20.0</td>\n",
       "      <td>3.0</td>\n",
       "      <td>Sanath Jayasuriya</td>\n",
       "      <td>Win</td>\n",
       "    </tr>\n",
       "    <tr>\n",
       "      <th>126</th>\n",
       "      <td>Pakistan</td>\n",
       "      <td>Bangladesh</td>\n",
       "      <td>ODI</td>\n",
       "      <td>Karachi</td>\n",
       "      <td>2008</td>\n",
       "      <td>Lose</td>\n",
       "      <td>Bowling</td>\n",
       "      <td>116.0</td>\n",
       "      <td>0.0</td>\n",
       "      <td>14.0</td>\n",
       "      <td>2.0</td>\n",
       "      <td>8.0</td>\n",
       "      <td>5.89</td>\n",
       "      <td>91.59</td>\n",
       "      <td>56.0</td>\n",
       "      <td>10.0</td>\n",
       "      <td>16.0</td>\n",
       "      <td>3.0</td>\n",
       "      <td>Abdur Rauf</td>\n",
       "      <td>Win</td>\n",
       "    </tr>\n",
       "  </tbody>\n",
       "</table>\n",
       "</div>"
      ],
      "text/plain": [
       "          Team    Opponent Format        Ground  Year  Toss Selection  \\\n",
       "2        India   Sri Lanka    ODI       Sharjah  1984   Win   Bowling   \n",
       "94   Sri Lanka  Bangladesh    ODI  Colombo(RPS)  2004  Lose   Bowling   \n",
       "126   Pakistan  Bangladesh    ODI       Karachi  2008  Lose   Bowling   \n",
       "\n",
       "     Run Scored  Wicket Lost  Fours  Sixes  Extras  Run Rate  \\\n",
       "2          97.0          0.0    9.0    0.0    14.0      4.47   \n",
       "94        191.0          0.0   15.0    0.0    20.0      5.70   \n",
       "126       116.0          0.0   14.0    2.0     8.0      5.89   \n",
       "\n",
       "     Avg Bat Strike Rate  Highest Score  Wicket Taken  Given Extras  \\\n",
       "2                  60.48           51.0          10.0           8.0   \n",
       "94                 84.97          107.0           9.0          20.0   \n",
       "126                91.59           56.0          10.0          16.0   \n",
       "\n",
       "     Highest Individual wicket Player Of The Match Result  \n",
       "2                          3.0     Surinder Khanna    Win  \n",
       "94                         3.0   Sanath Jayasuriya    Win  \n",
       "126                        3.0          Abdur Rauf    Win  "
      ]
     },
     "execution_count": 21,
     "metadata": {},
     "output_type": "execute_result"
    }
   ],
   "source": [
    "a[a['Wicket Lost']==0]"
   ]
  },
  {
   "cell_type": "markdown",
   "id": "e719603b",
   "metadata": {
    "papermill": {
     "duration": 0.013342,
     "end_time": "2023-09-15T17:35:36.148657",
     "exception": false,
     "start_time": "2023-09-15T17:35:36.135315",
     "status": "completed"
    },
    "tags": []
   },
   "source": [
    "# Highest vs Lowest Team Score\n",
    "\n",
    "* **Now we want to know the top 10 highest and the top 10 lowest teams score of Asia Cup**\n",
    "\n",
    "* **But this time, we wish to have both highest and lowest scores in a same bar graph for better comparision**\n",
    "\n",
    "* **In order to accomplish this task, we need to plot 2 bar graphs with a common x-axis**"
   ]
  },
  {
   "cell_type": "code",
   "execution_count": 22,
   "id": "9e94e07b",
   "metadata": {
    "execution": {
     "iopub.execute_input": "2023-09-15T17:35:36.179033Z",
     "iopub.status.busy": "2023-09-15T17:35:36.178622Z",
     "iopub.status.idle": "2023-09-15T17:35:36.514339Z",
     "shell.execute_reply": "2023-09-15T17:35:36.512665Z"
    },
    "papermill": {
     "duration": 0.354213,
     "end_time": "2023-09-15T17:35:36.517251",
     "exception": false,
     "start_time": "2023-09-15T17:35:36.163038",
     "status": "completed"
    },
    "tags": []
   },
   "outputs": [
    {
     "data": {
      "image/png": "[encoded data removed]",
      "text/plain": [
       "<Figure size 1000x600 with 1 Axes>"
      ]
     },
     "metadata": {},
     "output_type": "display_data"
    }
   ],
   "source": [
    "x=a['Run Scored'].sort_values(ascending=False).head(10)\n",
    "y=a['Run Scored'].sort_values(ascending=True).head(10)\n",
    "z=[1,2,3,4,5,6,7,8,9,10]\n",
    "\n",
    "plt.figure(figsize=(10,6))\n",
    "\n",
    "plt.bar(z,x,label=\"Highest Runs\",color='#28bf74')\n",
    "plt.bar(z,y,label=\"Lowest Runs\",color='#4d308c')\n",
    "\n",
    "plt.title(\"Highest VS Lowest Team Score\",fontsize=19)\n",
    "\n",
    "plt.xticks(z)\n",
    "plt.ylabel('Run scored',fontsize=12)\n",
    "\n",
    "plt.grid()\n",
    "plt.legend()\n",
    "plt.show()"
   ]
  },
  {
   "cell_type": "markdown",
   "id": "a72baafd",
   "metadata": {
    "papermill": {
     "duration": 0.019788,
     "end_time": "2023-09-15T17:35:36.555849",
     "exception": false,
     "start_time": "2023-09-15T17:35:36.536061",
     "status": "completed"
    },
    "tags": []
   },
   "source": [
    "# Match Played By Teams\n",
    "\n",
    "* **In the analysis part, we have seen which teams have played the most no. of matches in the Asia Cup**\n",
    "\n",
    "* **Here as well, we'll do the same but in a quite different style**\n",
    "\n",
    "* **This time, we gonna see the percentage of matches played by every asian team**"
   ]
  },
  {
   "cell_type": "code",
   "execution_count": 23,
   "id": "cd011d36",
   "metadata": {
    "execution": {
     "iopub.execute_input": "2023-09-15T17:35:36.587282Z",
     "iopub.status.busy": "2023-09-15T17:35:36.586366Z",
     "iopub.status.idle": "2023-09-15T17:35:36.594636Z",
     "shell.execute_reply": "2023-09-15T17:35:36.593457Z"
    },
    "papermill": {
     "duration": 0.02811,
     "end_time": "2023-09-15T17:35:36.598006",
     "exception": false,
     "start_time": "2023-09-15T17:35:36.569896",
     "status": "completed"
    },
    "tags": []
   },
   "outputs": [
    {
     "data": {
      "text/plain": [
       "Team\n",
       "Sri Lanka      60\n",
       "India          58\n",
       "Pakistan       54\n",
       "Bangladesh     50\n",
       "Afghanistan    14\n",
       "Hong Kong       8\n",
       "UAE             8\n",
       "Name: count, dtype: int64"
      ]
     },
     "execution_count": 23,
     "metadata": {},
     "output_type": "execute_result"
    }
   ],
   "source": [
    "a['Team'].value_counts()"
   ]
  },
  {
   "cell_type": "code",
   "execution_count": 24,
   "id": "64cc91df",
   "metadata": {
    "execution": {
     "iopub.execute_input": "2023-09-15T17:35:36.636830Z",
     "iopub.status.busy": "2023-09-15T17:35:36.636243Z",
     "iopub.status.idle": "2023-09-15T17:35:36.814365Z",
     "shell.execute_reply": "2023-09-15T17:35:36.813062Z"
    },
    "papermill": {
     "duration": 0.202477,
     "end_time": "2023-09-15T17:35:36.817418",
     "exception": false,
     "start_time": "2023-09-15T17:35:36.614941",
     "status": "completed"
    },
    "tags": []
   },
   "outputs": [
    {
     "data": {
      "image/png": "[encoded data removed]",
      "text/plain": [
       "<Figure size 1000x600 with 1 Axes>"
      ]
     },
     "metadata": {},
     "output_type": "display_data"
    }
   ],
   "source": [
    "x=a['Team'].value_counts().index\n",
    "y=a['Team'].value_counts()\n",
    "\n",
    "plt.figure(figsize=(10,6))\n",
    "\n",
    "ex=[0,0,0,0,0.1,0.2,0.1]\n",
    "\n",
    "plt.pie(y,labels=x,autopct='%0.0f %%', pctdistance=0.8,explode=ex)\n",
    "\n",
    "\n",
    "plt.title(\"Match Played By Teams\",fontsize=19)\n",
    "\n",
    "plt.show()"
   ]
  },
  {
   "cell_type": "markdown",
   "id": "a498eb2e",
   "metadata": {
    "papermill": {
     "duration": 0.020913,
     "end_time": "2023-09-15T17:35:36.858396",
     "exception": false,
     "start_time": "2023-09-15T17:35:36.837483",
     "status": "completed"
    },
    "tags": []
   },
   "source": [
    "**Looking at the above visualization, the teams who have played the most no. of matches is Sri Lanka (24%), while India (23%) remains in the 2nd position. However, UAE and Hong Kong are the teams who have played least percentage of matches i.e., 3% each.**"
   ]
  },
  {
   "cell_type": "markdown",
   "id": "f389aa7f",
   "metadata": {
    "papermill": {
     "duration": 0.014188,
     "end_time": "2023-09-15T17:35:36.887971",
     "exception": false,
     "start_time": "2023-09-15T17:35:36.873783",
     "status": "completed"
    },
    "tags": []
   },
   "source": [
    "# **Conclusion**\n",
    "\n",
    "* **In this notebook, we have successfully performed Exploratory Data Analytics (EDA) using Asia Cup Dataset.**\n",
    "\n",
    "* **Before performing the analysis, we ran some queries for data cleaning and manipulation.**\n",
    "\n",
    "* **We have analyzed the data as well as do visualizations for the better and enhanced insights**"
   ]
  },
  {
   "cell_type": "markdown",
   "id": "cc2afe6d",
   "metadata": {
    "papermill": {
     "duration": 0.01445,
     "end_time": "2023-09-15T17:35:36.917243",
     "exception": false,
     "start_time": "2023-09-15T17:35:36.902793",
     "status": "completed"
    },
    "tags": []
   },
   "source": [
    "**Some interesting insights from the analysis:**\n",
    "\n",
    "* **Pakistan Team has made Highest ever score (385.0) in a single innings**\n",
    "* **Virat Kohli is the top performer of the tournament, with 12 player of the match awards**\n",
    "* **10 is the Highest no. of wickets that has been fallen in most of the innings**\n",
    "* **Teams who have played the most no. of matches is Sri Lanka (24%), while India (23%) remains in the 2nd position.** \n",
    "* **UAE and Hong Kong are the teams who have played least percentage of matches i.e., 3% each.**"
   ]
  }
 ],
 "metadata": {
  "kernelspec": {
   "display_name": "Python 3",
   "language": "python",
   "name": "python3"
  },
  "language_info": {
   "codemirror_mode": {
    "name": "ipython",
    "version": 3
   },
   "file_extension": ".py",
   "mimetype": "text/x-python",
   "name": "python",
   "nbconvert_exporter": "python",
   "pygments_lexer": "ipython3",
   "version": "3.10.12"
  },
  "papermill": {
   "default_parameters": {},
   "duration": 7.469868,
   "end_time": "2023-09-15T17:35:37.454448",
   "environment_variables": {},
   "exception": null,
   "input_path": "__notebook__.ipynb",
   "output_path": "__notebook__.ipynb",
   "parameters": {},
   "start_time": "2023-09-15T17:35:29.984580",
   "version": "2.4.0"
  }
 },
 "nbformat": 4,
 "nbformat_minor": 5
}
